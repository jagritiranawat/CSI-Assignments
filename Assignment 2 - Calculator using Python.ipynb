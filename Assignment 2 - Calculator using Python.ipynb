{
 "cells": [
  {
   "cell_type": "markdown",
   "id": "77387351-6173-4269-adfa-d63995e3e63a",
   "metadata": {},
   "source": [
    "## Create a simple calculator which can perform simple arithmetic operations like add, subtract, division, multiplication etc.Create a simple calculator which can perform simple arithmetic operations like add, subtract, division, multiplication etc."
   ]
  },
  {
   "cell_type": "code",
   "execution_count": 8,
   "id": "8f253e14-3f8e-4bd0-aa16-886f3d853e9e",
   "metadata": {},
   "outputs": [
    {
     "name": "stdout",
     "output_type": "stream",
     "text": [
      "\n",
      "Simple Calculator Menu\n",
      "1. Add\n",
      "2. Subtract\n",
      "3. Multiply\n",
      "4. Divide\n",
      "5. Exit\n"
     ]
    },
    {
     "name": "stdin",
     "output_type": "stream",
     "text": [
      "Enter your choice (1-5):  1\n",
      "Enter the first number:  23\n",
      "Enter the second number:  24\n"
     ]
    },
    {
     "name": "stdout",
     "output_type": "stream",
     "text": [
      "Result: 47.0\n",
      "\n",
      "Simple Calculator Menu\n",
      "1. Add\n",
      "2. Subtract\n",
      "3. Multiply\n",
      "4. Divide\n",
      "5. Exit\n"
     ]
    },
    {
     "name": "stdin",
     "output_type": "stream",
     "text": [
      "Enter your choice (1-5):  2\n",
      "Enter the first number:  43\n",
      "Enter the second number:  23\n"
     ]
    },
    {
     "name": "stdout",
     "output_type": "stream",
     "text": [
      "Result: 20.0\n",
      "\n",
      "Simple Calculator Menu\n",
      "1. Add\n",
      "2. Subtract\n",
      "3. Multiply\n",
      "4. Divide\n",
      "5. Exit\n"
     ]
    },
    {
     "name": "stdin",
     "output_type": "stream",
     "text": [
      "Enter your choice (1-5):  3\n",
      "Enter the first number:  24\n",
      "Enter the second number:  12\n"
     ]
    },
    {
     "name": "stdout",
     "output_type": "stream",
     "text": [
      "Result: 288.0\n",
      "\n",
      "Simple Calculator Menu\n",
      "1. Add\n",
      "2. Subtract\n",
      "3. Multiply\n",
      "4. Divide\n",
      "5. Exit\n"
     ]
    },
    {
     "name": "stdin",
     "output_type": "stream",
     "text": [
      "Enter your choice (1-5):  4\n",
      "Enter the first number:  298\n",
      "Enter the second number:  2\n"
     ]
    },
    {
     "name": "stdout",
     "output_type": "stream",
     "text": [
      "Result: 149.0\n",
      "\n",
      "Simple Calculator Menu\n",
      "1. Add\n",
      "2. Subtract\n",
      "3. Multiply\n",
      "4. Divide\n",
      "5. Exit\n"
     ]
    },
    {
     "name": "stdin",
     "output_type": "stream",
     "text": [
      "Enter your choice (1-5):  5\n"
     ]
    },
    {
     "name": "stdout",
     "output_type": "stream",
     "text": [
      "Exiting the calculator. Exiting!\n"
     ]
    }
   ],
   "source": [
    "class Calculator:\n",
    "    def __init__(self):\n",
    "        pass \n",
    "  \n",
    "    def add(self, a, b):\n",
    "        return a + b\n",
    " \n",
    "    def subtract(self, a, b):\n",
    "        return a - b\n",
    "\n",
    "    def multiply(self, a, b):\n",
    "        return a * b\n",
    "\n",
    "    def divide(self, a, b):\n",
    "       \n",
    "        if b == 0:\n",
    "            return \"Error! Division by zero.\"\n",
    "        return a / b\n",
    "\n",
    "def menu():\n",
    "    print(\"\\nSimple Calculator Menu\")\n",
    "    print(\"1. Add\")\n",
    "    print(\"2. Subtract\")\n",
    "    print(\"3. Multiply\")\n",
    "    print(\"4. Divide\")\n",
    "    print(\"5. Exit\")\n",
    "    choice = input(\"Enter your choice (1-5): \")\n",
    "    return choice\n",
    "\n",
    "# Main program\n",
    "if __name__ == \"__main__\":\n",
    "    calc = Calculator()\n",
    "\n",
    "    while True:\n",
    "        choice = menu()\n",
    "\n",
    "    \n",
    "        if choice == '5':\n",
    "            print(\"Exiting the calculator. Exiting!\")\n",
    "            break\n",
    "\n",
    "       \n",
    "        num1 = float(input(\"Enter the first number: \"))\n",
    "        num2 = float(input(\"Enter the second number: \"))\n",
    "\n",
    "    \n",
    "        if choice == '1':\n",
    "            print(\"Result:\", calc.add(num1, num2))\n",
    "        elif choice == '2':\n",
    "            print(\"Result:\", calc.subtract(num1, num2))\n",
    "        elif choice == '3':\n",
    "            print(\"Result:\", calc.multiply(num1, num2))\n",
    "        elif choice == '4':\n",
    "            print(\"Result:\", calc.divide(num1, num2))\n",
    "        else:\n",
    "            print(\"Invalid choice! Please select a valid option.\")\n"
   ]
  }
 ],
 "metadata": {
  "kernelspec": {
   "display_name": "Python 3 (ipykernel)",
   "language": "python",
   "name": "python3"
  },
  "language_info": {
   "codemirror_mode": {
    "name": "ipython",
    "version": 3
   },
   "file_extension": ".py",
   "mimetype": "text/x-python",
   "name": "python",
   "nbconvert_exporter": "python",
   "pygments_lexer": "ipython3",
   "version": "3.11.7"
  }
 },
 "nbformat": 4,
 "nbformat_minor": 5
}

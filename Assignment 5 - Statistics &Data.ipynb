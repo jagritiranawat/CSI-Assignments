{
 "cells": [
  {
   "cell_type": "markdown",
   "id": "c630c09a-803b-4d44-80f5-d01a4f5ecc69",
   "metadata": {},
   "source": [
    "# Perform data preprocessing on a dataset (e.g., Titanic dataset) including cleaning, handling missing values, transformation, normalization, encoding, and feature engineering for predictive modeling."
   ]
  },
  {
   "cell_type": "code",
   "execution_count": 92,
   "id": "c6e51796-0bf7-40e0-80e1-3e59c7fb063b",
   "metadata": {},
   "outputs": [],
   "source": [
    "import pandas as pd\n",
    "import numpy as np\n",
    "from sklearn.model_selection import train_test_split\n",
    "from sklearn.preprocessing import MinMaxScaler\n",
    "from sklearn.preprocessing import StandardScaler, OneHotEncoder\n",
    "from sklearn.compose import ColumnTransformer\n",
    "from sklearn.impute import SimpleImputer\n",
    "from sklearn.pipeline import Pipeline\n"
   ]
  },
  {
   "cell_type": "code",
   "execution_count": 94,
   "id": "80504a80-162e-45e1-9117-accba312fb66",
   "metadata": {},
   "outputs": [],
   "source": [
    "# Load the Titanic dataset\n",
    "df = pd.read_csv('train.csv')\n"
   ]
  },
  {
   "cell_type": "code",
   "execution_count": 96,
   "id": "c1835ae5-15d3-4886-a8f9-c65ed8ba918b",
   "metadata": {},
   "outputs": [
    {
     "name": "stdout",
     "output_type": "stream",
     "text": [
      "   PassengerId  Survived  Pclass  \\\n",
      "0            1         0       3   \n",
      "1            2         1       1   \n",
      "2            3         1       3   \n",
      "3            4         1       1   \n",
      "4            5         0       3   \n",
      "\n",
      "                                                Name     Sex   Age  SibSp  \\\n",
      "0                            Braund, Mr. Owen Harris    male  22.0      1   \n",
      "1  Cumings, Mrs. John Bradley (Florence Briggs Th...  female  38.0      1   \n",
      "2                             Heikkinen, Miss. Laina  female  26.0      0   \n",
      "3       Futrelle, Mrs. Jacques Heath (Lily May Peel)  female  35.0      1   \n",
      "4                           Allen, Mr. William Henry    male  35.0      0   \n",
      "\n",
      "   Parch            Ticket     Fare Cabin Embarked  \n",
      "0      0         A/5 21171   7.2500   NaN        S  \n",
      "1      0          PC 17599  71.2833   C85        C  \n",
      "2      0  STON/O2. 3101282   7.9250   NaN        S  \n",
      "3      0            113803  53.1000  C123        S  \n",
      "4      0            373450   8.0500   NaN        S  \n",
      "<class 'pandas.core.frame.DataFrame'>\n",
      "RangeIndex: 891 entries, 0 to 890\n",
      "Data columns (total 12 columns):\n",
      " #   Column       Non-Null Count  Dtype  \n",
      "---  ------       --------------  -----  \n",
      " 0   PassengerId  891 non-null    int64  \n",
      " 1   Survived     891 non-null    int64  \n",
      " 2   Pclass       891 non-null    int64  \n",
      " 3   Name         891 non-null    object \n",
      " 4   Sex          891 non-null    object \n",
      " 5   Age          714 non-null    float64\n",
      " 6   SibSp        891 non-null    int64  \n",
      " 7   Parch        891 non-null    int64  \n",
      " 8   Ticket       891 non-null    object \n",
      " 9   Fare         891 non-null    float64\n",
      " 10  Cabin        204 non-null    object \n",
      " 11  Embarked     889 non-null    object \n",
      "dtypes: float64(2), int64(5), object(5)\n",
      "memory usage: 83.7+ KB\n",
      "None\n"
     ]
    }
   ],
   "source": [
    "# Check the first few rows of the dataframe\n",
    "print(df.head())\n",
    "\n",
    "# Check for missing values and data types\n",
    "print(df.info())\n"
   ]
  },
  {
   "cell_type": "markdown",
   "id": "6557e0dd-8b4f-4027-b2f1-c66951ef2530",
   "metadata": {},
   "source": [
    "### Handle Missing Values"
   ]
  },
  {
   "cell_type": "code",
   "execution_count": 99,
   "id": "a32f6f5c-79b0-457f-acb6-47b9bf1e19d2",
   "metadata": {},
   "outputs": [
    {
     "name": "stdout",
     "output_type": "stream",
     "text": [
      "PassengerId      0\n",
      "Survived         0\n",
      "Pclass           0\n",
      "Name             0\n",
      "Sex              0\n",
      "Age            177\n",
      "SibSp            0\n",
      "Parch            0\n",
      "Ticket           0\n",
      "Fare             0\n",
      "Cabin          687\n",
      "Embarked         2\n",
      "dtype: int64\n"
     ]
    }
   ],
   "source": [
    "# Check for missing values\n",
    "missing_values = df.isnull().sum()\n",
    "print(missing_values)\n"
   ]
  },
  {
   "cell_type": "code",
   "execution_count": 101,
   "id": "412227e7-b525-421f-9368-cfad784596ce",
   "metadata": {},
   "outputs": [],
   "source": [
    "# Fill missing values in 'Age' with the median\n",
    "df['Age'] = df['Age'].fillna(df['Age'].median())\n",
    "\n",
    "# Fill missing values in 'Embarked' with the mode\n",
    "df['Embarked'] = df['Embarked'].fillna(df['Embarked'].mode()[0])\n"
   ]
  },
  {
   "cell_type": "code",
   "execution_count": 103,
   "id": "4a0917f5-4f34-4b25-a7c8-3a8499f2486b",
   "metadata": {},
   "outputs": [],
   "source": [
    "# Drop columns that are not useful for the prediction\n",
    "cols_to_drop = ['Name', 'Ticket']\n",
    "df = df.drop(cols_to_drop, axis=1)\n"
   ]
  },
  {
   "cell_type": "markdown",
   "id": "b9b1bf86-f436-443b-8e5f-8ab0c8a09efb",
   "metadata": {},
   "source": [
    "### Encode Categorical Variables"
   ]
  },
  {
   "cell_type": "code",
   "execution_count": 106,
   "id": "f50de6fa-5065-4c2d-8499-5e985a8833d4",
   "metadata": {},
   "outputs": [],
   "source": [
    "# Create dummy variables for 'Pclass', 'Sex', and 'Embarked'\n",
    "df = pd.get_dummies(df, columns=['Pclass', 'Sex', 'Embarked'], drop_first=True)\n"
   ]
  },
  {
   "cell_type": "markdown",
   "id": "7a9d4abf-d5be-4cfc-83ab-21fecd806ea0",
   "metadata": {},
   "source": [
    "### Check the Dataframe Again"
   ]
  },
  {
   "cell_type": "code",
   "execution_count": 109,
   "id": "7e2a334e-4208-4f49-ba47-9b110cea0542",
   "metadata": {},
   "outputs": [
    {
     "name": "stdout",
     "output_type": "stream",
     "text": [
      "<class 'pandas.core.frame.DataFrame'>\n",
      "RangeIndex: 891 entries, 0 to 890\n",
      "Data columns (total 12 columns):\n",
      " #   Column       Non-Null Count  Dtype  \n",
      "---  ------       --------------  -----  \n",
      " 0   PassengerId  891 non-null    int64  \n",
      " 1   Survived     891 non-null    int64  \n",
      " 2   Age          891 non-null    float64\n",
      " 3   SibSp        891 non-null    int64  \n",
      " 4   Parch        891 non-null    int64  \n",
      " 5   Fare         891 non-null    float64\n",
      " 6   Cabin        204 non-null    object \n",
      " 7   Pclass_2     891 non-null    bool   \n",
      " 8   Pclass_3     891 non-null    bool   \n",
      " 9   Sex_male     891 non-null    bool   \n",
      " 10  Embarked_Q   891 non-null    bool   \n",
      " 11  Embarked_S   891 non-null    bool   \n",
      "dtypes: bool(5), float64(2), int64(4), object(1)\n",
      "memory usage: 53.2+ KB\n",
      "None\n"
     ]
    }
   ],
   "source": [
    "print(df.info())\n"
   ]
  },
  {
   "cell_type": "markdown",
   "id": "5e590a34-08d7-473b-a27f-2e516c4c64cb",
   "metadata": {},
   "source": [
    "### Feature Engineering"
   ]
  },
  {
   "cell_type": "code",
   "execution_count": 112,
   "id": "9d857b97-19ba-4ebf-b18c-97e44fa471e9",
   "metadata": {},
   "outputs": [],
   "source": [
    "# Feature Engineering: Creating new features\n",
    "# Creating 'FamilySize' from 'SibSp' and 'Parch'\n",
    "df['FamilySize'] = df['SibSp'] + df['Parch'] + 1\n",
    "\n",
    "# Creating 'IsAlone' from 'FamilySize'\n",
    "df['IsAlone'] = 0  # initialize to 0, assuming passengers are not alone\n",
    "df.loc[df['FamilySize'] == 1, 'IsAlone'] = 1  # update to 1 if family size is 1\n",
    "\n"
   ]
  },
  {
   "cell_type": "markdown",
   "id": "0f32e130-1f62-4f86-a157-cb0a432e7205",
   "metadata": {},
   "source": [
    "### Splitting the Dataset into Training and Test Set"
   ]
  },
  {
   "cell_type": "code",
   "execution_count": 115,
   "id": "2c038691-dab8-4d6a-9017-f5f05a14adea",
   "metadata": {},
   "outputs": [],
   "source": [
    "# Separate the features (X) and the target (y)\n",
    "X = df.drop(columns='Survived')\n",
    "y = df['Survived']\n",
    "\n",
    "# Split the data into training and test sets\n",
    "X_train, X_test, y_train, y_test = train_test_split(X, y, test_size=0.3, random_state=0)\n"
   ]
  },
  {
   "cell_type": "markdown",
   "id": "fb6c73fb-38f6-49c4-b24e-a3eb952edeb2",
   "metadata": {},
   "source": [
    "### Feature Scaling"
   ]
  },
  {
   "cell_type": "code",
   "execution_count": 128,
   "id": "71a194eb-0502-4f7d-b6c4-e9e35d857249",
   "metadata": {},
   "outputs": [
    {
     "name": "stdout",
     "output_type": "stream",
     "text": [
      "Scaled Training Data:\n",
      "[[0.9640045  0.63443842 0.         ... 0.         0.         1.        ]\n",
      " [0.05849269 0.60922728 0.125      ... 0.         0.1        0.        ]\n",
      " [0.43419573 0.00415984 0.625      ... 1.         0.7        0.        ]\n",
      " ...\n",
      " [0.70753656 0.34451027 0.         ... 1.         0.         1.        ]\n",
      " [0.6287964  0.44535485 0.125      ... 1.         0.1        0.        ]\n",
      " [0.76940382 0.74788857 0.125      ... 0.         0.2        0.        ]]\n",
      "Scaled Test Data:\n",
      "[[0.5568054  0.34451027 0.         ... 1.         0.         1.        ]\n",
      " [0.72890889 0.34451027 0.         ... 1.         0.         1.        ]\n",
      " [0.31271091 0.07979327 0.5        ... 1.         0.5        0.        ]\n",
      " ...\n",
      " [0.69741282 0.3319047  0.125      ... 1.         0.1        0.        ]\n",
      " [0.88413948 0.21845456 0.         ... 1.         0.         1.        ]\n",
      " [0.071991   0.34451027 0.         ... 0.         0.         1.        ]]\n"
     ]
    }
   ],
   "source": [
    "\n",
    "# Ensure all data in X are numeric\n",
    "non_numeric_columns = df.select_dtypes(include=['object']).columns\n",
    "if len(non_numeric_columns) > 0:\n",
    "    print(f\"Non-numeric columns detected: {non_numeric_columns}\")\n",
    "    df[non_numeric_columns] = df[non_numeric_columns].apply(lambda col: pd.to_numeric(col, errors='coerce'))\n",
    "\n",
    "# Handle any remaining non-numeric values\n",
    "df = df.dropna()\n",
    "\n",
    "# Initialize the MinMaxScaler\n",
    "scaler = MinMaxScaler()\n",
    "\n",
    "# Fit and transform the training data\n",
    "X_train_scaled = scaler.fit_transform(X_train)\n",
    "\n",
    "# Transform the test data\n",
    "X_test_scaled = scaler.transform(X_test)\n",
    "\n",
    "# Verify the scaled data\n",
    "print(\"Scaled Training Data:\")\n",
    "print(X_train_scaled)\n",
    "print(\"Scaled Test Data:\")\n",
    "print(X_test_scaled)\n"
   ]
  },
  {
   "cell_type": "markdown",
   "id": "9887b4ff-d2c4-4761-ade4-e99aafcdbf10",
   "metadata": {},
   "source": [
    "### Check the Dataframe Again"
   ]
  },
  {
   "cell_type": "code",
   "execution_count": 28,
   "id": "d2465c81-316e-40f0-b81f-bca65fb1dfc0",
   "metadata": {},
   "outputs": [
    {
     "name": "stdout",
     "output_type": "stream",
     "text": [
      "<class 'pandas.core.frame.DataFrame'>\n",
      "RangeIndex: 891 entries, 0 to 890\n",
      "Data columns (total 11 columns):\n",
      " #   Column       Non-Null Count  Dtype  \n",
      "---  ------       --------------  -----  \n",
      " 0   PassengerId  891 non-null    int64  \n",
      " 1   Survived     891 non-null    int64  \n",
      " 2   Age          891 non-null    float64\n",
      " 3   SibSp        891 non-null    int64  \n",
      " 4   Parch        891 non-null    int64  \n",
      " 5   Fare         891 non-null    float64\n",
      " 6   Pclass_2     891 non-null    bool   \n",
      " 7   Pclass_3     891 non-null    bool   \n",
      " 8   Sex_male     891 non-null    bool   \n",
      " 9   Embarked_Q   891 non-null    bool   \n",
      " 10  Embarked_S   891 non-null    bool   \n",
      "dtypes: bool(5), float64(2), int64(4)\n",
      "memory usage: 46.2 KB\n",
      "None\n"
     ]
    }
   ],
   "source": [
    "print(df.info())\n"
   ]
  },
  {
   "cell_type": "code",
   "execution_count": null,
   "id": "111ef51e-fc76-415d-8ad9-a0e8cfd14a06",
   "metadata": {},
   "outputs": [],
   "source": []
  }
 ],
 "metadata": {
  "kernelspec": {
   "display_name": "Python 3 (ipykernel)",
   "language": "python",
   "name": "python3"
  },
  "language_info": {
   "codemirror_mode": {
    "name": "ipython",
    "version": 3
   },
   "file_extension": ".py",
   "mimetype": "text/x-python",
   "name": "python",
   "nbconvert_exporter": "python",
   "pygments_lexer": "ipython3",
   "version": "3.11.7"
  }
 },
 "nbformat": 4,
 "nbformat_minor": 5
}

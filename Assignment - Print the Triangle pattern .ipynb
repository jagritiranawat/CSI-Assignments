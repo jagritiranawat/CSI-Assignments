{
 "cells": [
  {
   "cell_type": "markdown",
   "id": "66006643-9bf3-47c8-b65c-fcccd78d6b0b",
   "metadata": {},
   "source": [
    "## Create lower triangular, upper triangular and pyramid containing the \"*\" character"
   ]
  },
  {
   "cell_type": "markdown",
   "id": "a1afb75f-9078-43d2-9fb8-7377448345c8",
   "metadata": {},
   "source": [
    "### Lower Triangular Pattern"
   ]
  },
  {
   "cell_type": "code",
   "execution_count": 5,
   "id": "a1879e50-f156-4cc1-9ac1-4985cce2ce29",
   "metadata": {},
   "outputs": [
    {
     "name": "stdout",
     "output_type": "stream",
     "text": [
      "* \n",
      "* * \n",
      "* * * \n",
      "* * * * \n",
      "* * * * * \n"
     ]
    }
   ],
   "source": [
    "def lower_triangular(n):\n",
    "    for i in range(1, n + 1):\n",
    "        print('* ' * i)\n",
    "lower_triangular(5)\n"
   ]
  },
  {
   "cell_type": "markdown",
   "id": "a98dce49-69bf-4c17-b3b8-8aa3c0687caa",
   "metadata": {},
   "source": [
    "### Upper Triangular Pattern"
   ]
  },
  {
   "cell_type": "code",
   "execution_count": 6,
   "id": "ccb77577-2b06-405b-b5e0-cef35b36993e",
   "metadata": {},
   "outputs": [
    {
     "name": "stdout",
     "output_type": "stream",
     "text": [
      "* * * * * \n",
      "* * * * \n",
      "* * * \n",
      "* * \n",
      "* \n"
     ]
    }
   ],
   "source": [
    "def upper_triangular(n):\n",
    "    for i in range(n, 0, -1):\n",
    "        print('* ' * i)\n",
    "upper_triangular(5)\n"
   ]
  },
  {
   "cell_type": "markdown",
   "id": "8b4615be-1b0e-41db-af64-fa6fa161b937",
   "metadata": {},
   "source": [
    "### Pyramid Pattern"
   ]
  },
  {
   "cell_type": "code",
   "execution_count": 7,
   "id": "a0934f3b-cbea-471a-9ca5-2c07ab0d3bd7",
   "metadata": {},
   "outputs": [
    {
     "name": "stdout",
     "output_type": "stream",
     "text": [
      "    * \n",
      "   * * \n",
      "  * * * \n",
      " * * * * \n",
      "* * * * * \n"
     ]
    }
   ],
   "source": [
    "def pyramid(n):\n",
    "    for i in range(1, n + 1):\n",
    "        print(' ' * (n - i) + '* ' * i)\n",
    "pyramid(5)\n"
   ]
  },
  {
   "cell_type": "markdown",
   "id": "f18121b0-35b9-4c1c-9cbe-db316f16a464",
   "metadata": {},
   "source": [
    "### Complete Code ( All three patterns combined)"
   ]
  },
  {
   "cell_type": "code",
   "execution_count": 8,
   "id": "f3d4d178-ecec-4086-b8b4-53466465f6bc",
   "metadata": {},
   "outputs": [
    {
     "name": "stdout",
     "output_type": "stream",
     "text": [
      "Lower Triangular:\n",
      "* \n",
      "* * \n",
      "* * * \n",
      "* * * * \n",
      "* * * * * \n",
      "\n",
      "Upper Triangular:\n",
      "* * * * * \n",
      "* * * * \n",
      "* * * \n",
      "* * \n",
      "* \n",
      "\n",
      "Pyramid:\n",
      "    * \n",
      "   * * \n",
      "  * * * \n",
      " * * * * \n",
      "* * * * * \n"
     ]
    }
   ],
   "source": [
    "def lower_triangular(n):\n",
    "    for i in range(1, n + 1):\n",
    "        print('* ' * i)\n",
    "\n",
    "def upper_triangular(n):\n",
    "    for i in range(n, 0, -1):\n",
    "        print('* ' * i)\n",
    "\n",
    "def pyramid(n):\n",
    "    for i in range(1, n + 1):\n",
    "        print(' ' * (n - i) + '* ' * i)\n",
    "n = 5\n",
    "print(\"Lower Triangular:\")\n",
    "lower_triangular(n)\n",
    "print(\"\\nUpper Triangular:\")\n",
    "upper_triangular(n)\n",
    "print(\"\\nPyramid:\")\n",
    "pyramid(n)\n"
   ]
  }
 ],
 "metadata": {
  "kernelspec": {
   "display_name": "Python 3 (ipykernel)",
   "language": "python",
   "name": "python3"
  },
  "language_info": {
   "codemirror_mode": {
    "name": "ipython",
    "version": 3
   },
   "file_extension": ".py",
   "mimetype": "text/x-python",
   "name": "python",
   "nbconvert_exporter": "python",
   "pygments_lexer": "ipython3",
   "version": "3.12.3"
  }
 },
 "nbformat": 4,
 "nbformat_minor": 5
}

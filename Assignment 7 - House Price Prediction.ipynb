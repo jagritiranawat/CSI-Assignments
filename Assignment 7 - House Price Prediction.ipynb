{
 "cells": [
  {
   "cell_type": "markdown",
   "id": "b1bfcea1-548c-49d8-b63c-e03edfe684f2",
   "metadata": {},
   "source": [
    "## Assignment 7 - House Price Prediction"
   ]
  },
  {
   "cell_type": "markdown",
   "id": "1e127f7c-a408-4491-92b8-035aa2a8a161",
   "metadata": {},
   "source": [
    "### Data Preprocessing and feature engineering"
   ]
  },
  {
   "cell_type": "markdown",
   "id": "2040d304-72d8-4736-ae99-ff505c3f2743",
   "metadata": {},
   "source": [
    "### Import libraries and load data"
   ]
  },
  {
   "cell_type": "code",
   "execution_count": 39,
   "id": "33288b36-3720-40fc-9b3d-2690f9aa02c4",
   "metadata": {},
   "outputs": [
    {
     "name": "stdout",
     "output_type": "stream",
     "text": [
      "Train data shape: (1460, 81)\n",
      "Test data shape: (1459, 80)\n"
     ]
    }
   ],
   "source": [
    "import pandas as pd\n",
    "import numpy as np\n",
    "from sklearn.model_selection import train_test_split\n",
    "from sklearn.impute import SimpleImputer\n",
    "from sklearn.preprocessing import StandardScaler, OneHotEncoder\n",
    "from sklearn.compose import ColumnTransformer\n",
    "from sklearn.pipeline import Pipeline\n",
    "from sklearn.linear_model import LinearRegression\n",
    "from sklearn.ensemble import RandomForestRegressor\n",
    "from sklearn.metrics import mean_squared_error, r2_score\n",
    "import xgboost as xgb\n",
    "import matplotlib.pyplot as plt\n",
    "\n",
    "# Load the data\n",
    "train_data = pd.read_csv('train.csv')\n",
    "test_data = pd.read_csv('test.csv')\n",
    "\n",
    "print(\"Train data shape:\", train_data.shape)\n",
    "print(\"Test data shape:\", test_data.shape)"
   ]
  },
  {
   "cell_type": "markdown",
   "id": "5ee82775-9136-4cef-88ed-45c43c3bbf7a",
   "metadata": {},
   "source": [
    "### Explore and preprocess the data"
   ]
  },
  {
   "cell_type": "code",
   "execution_count": 41,
   "id": "00a1b4ec-640b-4049-9f2f-3b36b5089188",
   "metadata": {},
   "outputs": [
    {
     "name": "stdout",
     "output_type": "stream",
     "text": [
      "Numeric features: 37\n",
      "Categorical features: 43\n",
      "Preprocessing complete. Ready for model training.\n"
     ]
    }
   ],
   "source": [
    "# Separate features and target\n",
    "X = train_data.drop('SalePrice', axis=1)\n",
    "y = train_data['SalePrice']\n",
    "\n",
    "# Identify numeric and categorical columns\n",
    "numeric_features = X.select_dtypes(include=['int64', 'float64']).columns\n",
    "categorical_features = X.select_dtypes(include=['object']).columns\n",
    "\n",
    "print(\"Numeric features:\", len(numeric_features))\n",
    "print(\"Categorical features:\", len(categorical_features))\n"
   ]
  },
  {
   "cell_type": "code",
   "execution_count": 51,
   "id": "8488f309-2238-4e38-892a-8f4a5134bee4",
   "metadata": {},
   "outputs": [],
   "source": [
    "# Create preprocessing pipelines\n",
    "numeric_transformer = Pipeline(steps=[\n",
    "    ('imputer', SimpleImputer(strategy='median')),\n",
    "    ('scaler', StandardScaler())\n",
    "])\n",
    "\n",
    "categorical_transformer = Pipeline(steps=[\n",
    "    ('imputer', SimpleImputer(strategy='constant', fill_value='missing')),\n",
    "    ('onehot', OneHotEncoder(handle_unknown='ignore'))\n",
    "])"
   ]
  },
  {
   "cell_type": "code",
   "execution_count": 53,
   "id": "aab705a0-c354-49e3-a3ed-eb2700ffdb30",
   "metadata": {},
   "outputs": [],
   "source": [
    "# Combine preprocessing steps\n",
    "preprocessor = ColumnTransformer(\n",
    "    transformers=[\n",
    "        ('num', numeric_transformer, numeric_features),\n",
    "        ('cat', categorical_transformer, categorical_features)\n",
    "    ])\n"
   ]
  },
  {
   "cell_type": "code",
   "execution_count": 57,
   "id": "d94653f7-deae-4f18-9764-c5166106050b",
   "metadata": {},
   "outputs": [
    {
     "name": "stdout",
     "output_type": "stream",
     "text": [
      "Preprocessing complete. Ready for model training.\n"
     ]
    }
   ],
   "source": [
    "# Fit the preprocessor to the training data and transform\n",
    "X_processed = preprocessor.fit_transform(X)\n",
    "\n",
    "# Split the data into training and validation sets\n",
    "X_train, X_val, y_train, y_val = train_test_split(X_processed, y, test_size=0.2, random_state=42)\n",
    "\n",
    "print(\"Preprocessing complete. Ready for model training.\")"
   ]
  },
  {
   "cell_type": "markdown",
   "id": "ae1f0253-3f61-4538-9f35-b11314b2cc9b",
   "metadata": {},
   "source": [
    "### Train and evaluate Linear Regression model"
   ]
  },
  {
   "cell_type": "code",
   "execution_count": 43,
   "id": "283c35c4-24de-459f-a5a0-51fd809970e4",
   "metadata": {},
   "outputs": [
    {
     "name": "stdout",
     "output_type": "stream",
     "text": [
      "Linear Regression Results:\n",
      "Train MSE: 357354639.40\n",
      "Validation MSE: 4269799606.06\n",
      "Train R2: 0.94\n",
      "Validation R2: 0.44\n"
     ]
    }
   ],
   "source": [
    "# Create and train Linear Regression model\n",
    "lr_model = LinearRegression()\n",
    "lr_model.fit(X_train, y_train)\n",
    "\n",
    "# Make predictions\n",
    "lr_train_pred = lr_model.predict(X_train)\n",
    "lr_val_pred = lr_model.predict(X_val)\n",
    "\n",
    "# Evaluate the model\n",
    "lr_train_mse = mean_squared_error(y_train, lr_train_pred)\n",
    "lr_val_mse = mean_squared_error(y_val, lr_val_pred)\n",
    "lr_train_r2 = r2_score(y_train, lr_train_pred)\n",
    "lr_val_r2 = r2_score(y_val, lr_val_pred)\n",
    "\n",
    "print(\"Linear Regression Results:\")\n",
    "print(f\"Train MSE: {lr_train_mse:.2f}\")\n",
    "print(f\"Validation MSE: {lr_val_mse:.2f}\")\n",
    "print(f\"Train R2: {lr_train_r2:.2f}\")\n",
    "print(f\"Validation R2: {lr_val_r2:.2f}\")"
   ]
  },
  {
   "cell_type": "markdown",
   "id": "6eb355cf-24b9-488b-9572-50aebdf7e96f",
   "metadata": {},
   "source": [
    "### Train and evaluate Random Forest model"
   ]
  },
  {
   "cell_type": "code",
   "execution_count": 45,
   "id": "5bc576b8-7fef-4ad0-9c36-c696b4bef667",
   "metadata": {},
   "outputs": [
    {
     "name": "stdout",
     "output_type": "stream",
     "text": [
      "Random Forest Results:\n",
      "Train MSE: 121189750.52\n",
      "Validation MSE: 833648030.57\n",
      "Train R2: 0.98\n",
      "Validation R2: 0.89\n"
     ]
    }
   ],
   "source": [
    "# Create and train Random Forest model\n",
    "rf_model = RandomForestRegressor(n_estimators=100, random_state=42)\n",
    "rf_model.fit(X_train, y_train)\n",
    "\n",
    "# Make predictions\n",
    "rf_train_pred = rf_model.predict(X_train)\n",
    "rf_val_pred = rf_model.predict(X_val)\n",
    "\n",
    "# Evaluate the model\n",
    "rf_train_mse = mean_squared_error(y_train, rf_train_pred)\n",
    "rf_val_mse = mean_squared_error(y_val, rf_val_pred)\n",
    "rf_train_r2 = r2_score(y_train, rf_train_pred)\n",
    "rf_val_r2 = r2_score(y_val, rf_val_pred)\n",
    "\n",
    "print(\"Random Forest Results:\")\n",
    "print(f\"Train MSE: {rf_train_mse:.2f}\")\n",
    "print(f\"Validation MSE: {rf_val_mse:.2f}\")\n",
    "print(f\"Train R2: {rf_train_r2:.2f}\")\n",
    "print(f\"Validation R2: {rf_val_r2:.2f}\")"
   ]
  },
  {
   "cell_type": "markdown",
   "id": "dd20b221-7d34-47ac-93df-e10700c22066",
   "metadata": {},
   "source": [
    "### Train and evaluate XGBoost model"
   ]
  },
  {
   "cell_type": "code",
   "execution_count": 47,
   "id": "8ebbe7b5-6254-4e16-8e07-50787cb1c5cd",
   "metadata": {},
   "outputs": [
    {
     "name": "stdout",
     "output_type": "stream",
     "text": [
      "XGBoost Results:\n",
      "Train MSE: 28541872.82\n",
      "Validation MSE: 652398223.48\n",
      "Train R2: 1.00\n",
      "Validation R2: 0.91\n"
     ]
    }
   ],
   "source": [
    "# Create and train XGBoost model\n",
    "xgb_model = xgb.XGBRegressor(n_estimators=100, learning_rate=0.1, random_state=42)\n",
    "xgb_model.fit(X_train, y_train)\n",
    "\n",
    "# Make predictions\n",
    "xgb_train_pred = xgb_model.predict(X_train)\n",
    "xgb_val_pred = xgb_model.predict(X_val)\n",
    "\n",
    "# Evaluate the model\n",
    "xgb_train_mse = mean_squared_error(y_train, xgb_train_pred)\n",
    "xgb_val_mse = mean_squared_error(y_val, xgb_val_pred)\n",
    "xgb_train_r2 = r2_score(y_train, xgb_train_pred)\n",
    "xgb_val_r2 = r2_score(y_val, xgb_val_pred)\n",
    "\n",
    "print(\"XGBoost Results:\")\n",
    "print(f\"Train MSE: {xgb_train_mse:.2f}\")\n",
    "print(f\"Validation MSE: {xgb_val_mse:.2f}\")\n",
    "print(f\"Train R2: {xgb_train_r2:.2f}\")\n",
    "print(f\"Validation R2: {xgb_val_r2:.2f}\")"
   ]
  },
  {
   "cell_type": "markdown",
   "id": "bbce1d11-b658-4e5a-a79a-21c28a1baea2",
   "metadata": {},
   "source": [
    "### Compare model performances"
   ]
  },
  {
   "cell_type": "code",
   "execution_count": 49,
   "id": "a9240e5b-e7b5-4a73-a6cc-582d4ec3a789",
   "metadata": {},
   "outputs": [
    {
     "data": {
      "image/png": "[encoded data removed]",
      "text/plain": [
       "<Figure size 1000x600 with 1 Axes>"
      ]
     },
     "metadata": {},
     "output_type": "display_data"
    },
    {
     "name": "stdout",
     "output_type": "stream",
     "text": [
      "Model Comparison:\n",
      "Linear Regression: Train R2 = 0.9401, Validation R2 = 0.4433\n",
      "Random Forest: Train R2 = 0.9797, Validation R2 = 0.8913\n",
      "XGBoost: Train R2 = 0.9952, Validation R2 = 0.9149\n"
     ]
    }
   ],
   "source": [
    "models = ['Linear Regression', 'Random Forest', 'XGBoost']\n",
    "train_r2 = [lr_train_r2, rf_train_r2, xgb_train_r2]\n",
    "val_r2 = [lr_val_r2, rf_val_r2, xgb_val_r2]\n",
    "\n",
    "plt.figure(figsize=(10, 6))\n",
    "x = np.arange(len(models))\n",
    "width = 0.35\n",
    "\n",
    "plt.bar(x - width/2, train_r2, width, label='Train R2')\n",
    "plt.bar(x + width/2, val_r2, width, label='Validation R2')\n",
    "\n",
    "plt.ylabel('R2 Score')\n",
    "plt.title('Model Comparison')\n",
    "plt.xticks(x, models)\n",
    "plt.legend()\n",
    "\n",
    "plt.tight_layout()\n",
    "plt.show()\n",
    "\n",
    "print(\"Model Comparison:\")\n",
    "for model, train, val in zip(models, train_r2, val_r2):\n",
    "    print(f\"{model}: Train R2 = {train:.4f}, Validation R2 = {val:.4f}\")"
   ]
  },
  {
   "cell_type": "code",
   "execution_count": null,
   "id": "88625fc3-d426-45ca-b5e3-b00631ab9477",
   "metadata": {},
   "outputs": [],
   "source": []
  }
 ],
 "metadata": {
  "kernelspec": {
   "display_name": "Python 3 (ipykernel)",
   "language": "python",
   "name": "python3"
  },
  "language_info": {
   "codemirror_mode": {
    "name": "ipython",
    "version": 3
   },
   "file_extension": ".py",
   "mimetype": "text/x-python",
   "name": "python",
   "nbconvert_exporter": "python",
   "pygments_lexer": "ipython3",
   "version": "3.11.7"
  }
 },
 "nbformat": 4,
 "nbformat_minor": 5
}
